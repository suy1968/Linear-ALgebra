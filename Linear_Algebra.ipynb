{
 "cells": [
  {
   "cell_type": "markdown",
   "metadata": {
    "id": "4ibBgJD3WmYF"
   },
   "source": [
    "# <!DOCTYPE html>\n",
    "<html>\n",
    "<body>\n",
    "<div align=\"center\">\n",
    "<h3>SUYASH PRATAP SINGH</h3>\n",
    "    \n",
    "<h1>Linear Algebra with Python</h1>\n",
    "</div>\n",
    "</body>\n",
    "</html>\n"
   ]
  },
  {
   "cell_type": "markdown",
   "metadata": {
    "id": "0hgrOa_SWmYG"
   },
   "source": [
    "# Linear Algebra"
   ]
  },
  {
   "cell_type": "code",
   "execution_count": 1,
   "metadata": {
    "id": "4hXr8bMUWmYG"
   },
   "outputs": [],
   "source": [
    "#Import library\n",
    "import numpy as np\n",
    "import matplotlib.pyplot as plt\n",
    "from mpl_toolkits.mplot3d import Axes3D"
   ]
  },
  {
   "cell_type": "code",
   "execution_count": 2,
   "metadata": {
    "id": "Z3q4qa7SWmYH"
   },
   "outputs": [],
   "source": [
    "v = [3,4]\n",
    "u = [1,2,3]"
   ]
  },
  {
   "cell_type": "code",
   "execution_count": 3,
   "metadata": {
    "id": "hmYxm0cXWmYH",
    "outputId": "987b9ef4-6c4e-47bc-cb05-5499f3692bc0"
   },
   "outputs": [
    {
     "data": {
      "text/plain": [
       "([3, 4], [1, 2, 3])"
      ]
     },
     "execution_count": 3,
     "metadata": {},
     "output_type": "execute_result"
    }
   ],
   "source": [
    "v ,u"
   ]
  },
  {
   "cell_type": "code",
   "execution_count": 4,
   "metadata": {
    "id": "jzDoCQt-WmYJ",
    "outputId": "065c76c9-11b2-4963-9e8c-5127eb4bf8dd"
   },
   "outputs": [
    {
     "data": {
      "text/plain": [
       "list"
      ]
     },
     "execution_count": 4,
     "metadata": {},
     "output_type": "execute_result"
    }
   ],
   "source": [
    "type(v) "
   ]
  },
  {
   "cell_type": "code",
   "execution_count": 5,
   "metadata": {
    "id": "rRbHG7MEWmYK"
   },
   "outputs": [],
   "source": [
    "w = np.array([9,5,7])"
   ]
  },
  {
   "cell_type": "code",
   "execution_count": 6,
   "metadata": {
    "id": "n5wQmquZWmYK",
    "outputId": "7ecc5350-bc66-4026-82ac-2c7798c76759"
   },
   "outputs": [
    {
     "data": {
      "text/plain": [
       "numpy.ndarray"
      ]
     },
     "execution_count": 6,
     "metadata": {},
     "output_type": "execute_result"
    }
   ],
   "source": [
    "type(w)"
   ]
  },
  {
   "cell_type": "code",
   "execution_count": 7,
   "metadata": {
    "id": "xv7XffN4WmYK",
    "outputId": "ddfd2e15-c501-4035-c15c-d315559a3f6b"
   },
   "outputs": [
    {
     "data": {
      "text/plain": [
       "3"
      ]
     },
     "execution_count": 7,
     "metadata": {},
     "output_type": "execute_result"
    }
   ],
   "source": [
    "w.shape[0]"
   ]
  },
  {
   "cell_type": "code",
   "execution_count": 8,
   "metadata": {
    "id": "rZUaDAb3WmYK",
    "outputId": "4f606b7d-a628-4ec6-ef4b-d798a17f63de"
   },
   "outputs": [
    {
     "data": {
      "text/plain": [
       "(3,)"
      ]
     },
     "execution_count": 8,
     "metadata": {},
     "output_type": "execute_result"
    }
   ],
   "source": [
    "w.shape"
   ]
  },
  {
   "cell_type": "markdown",
   "metadata": {
    "id": "O5ifm6TGWmYK"
   },
   "source": [
    "# Reading elements from an array "
   ]
  },
  {
   "cell_type": "code",
   "execution_count": 9,
   "metadata": {
    "id": "SdMV7sMwWmYL"
   },
   "outputs": [],
   "source": [
    "a = np.array([7,5,3,9,0,2])"
   ]
  },
  {
   "cell_type": "code",
   "execution_count": 10,
   "metadata": {
    "id": "QR3Ay-7uWmYL",
    "outputId": "36876520-09bb-4e33-c6ae-2ba4ad720d90"
   },
   "outputs": [
    {
     "data": {
      "text/plain": [
       "7"
      ]
     },
     "execution_count": 10,
     "metadata": {},
     "output_type": "execute_result"
    }
   ],
   "source": [
    "a[0]"
   ]
  },
  {
   "cell_type": "code",
   "execution_count": 11,
   "metadata": {
    "id": "-OvtCwwEWmYL",
    "outputId": "18963c3b-9d83-4e0a-fef0-bc8674aedeee"
   },
   "outputs": [
    {
     "data": {
      "text/plain": [
       "array([5, 3, 9, 0, 2])"
      ]
     },
     "execution_count": 11,
     "metadata": {},
     "output_type": "execute_result"
    }
   ],
   "source": [
    "a[1:]"
   ]
  },
  {
   "cell_type": "code",
   "execution_count": 12,
   "metadata": {
    "id": "WtdEiXz9WmYL",
    "outputId": "bf250800-5aab-4f76-e6d6-93217d20f216"
   },
   "outputs": [
    {
     "data": {
      "text/plain": [
       "array([5, 3, 9])"
      ]
     },
     "execution_count": 12,
     "metadata": {},
     "output_type": "execute_result"
    }
   ],
   "source": [
    "a[1:4]"
   ]
  },
  {
   "cell_type": "code",
   "execution_count": 13,
   "metadata": {
    "id": "TGjolsOrWmYL",
    "outputId": "5389e3de-bff4-4eb0-870e-f5ec50ea56b9"
   },
   "outputs": [
    {
     "data": {
      "text/plain": [
       "2"
      ]
     },
     "execution_count": 13,
     "metadata": {},
     "output_type": "execute_result"
    }
   ],
   "source": [
    "a[-1] "
   ]
  },
  {
   "cell_type": "code",
   "execution_count": 14,
   "metadata": {
    "id": "0v6SxqfGWmYL",
    "outputId": "eaccf547-2016-4739-a650-f90c96a3cd43"
   },
   "outputs": [
    {
     "data": {
      "text/plain": [
       "9"
      ]
     },
     "execution_count": 14,
     "metadata": {},
     "output_type": "execute_result"
    }
   ],
   "source": [
    "a[-3]"
   ]
  },
  {
   "cell_type": "code",
   "execution_count": 15,
   "metadata": {
    "id": "NvVb2_DXWmYM",
    "outputId": "13f537b8-aa7f-453b-cb75-e1efce4ebfd8"
   },
   "outputs": [
    {
     "data": {
      "text/plain": [
       "7"
      ]
     },
     "execution_count": 15,
     "metadata": {},
     "output_type": "execute_result"
    }
   ],
   "source": [
    "a[-6]"
   ]
  },
  {
   "cell_type": "code",
   "execution_count": 16,
   "metadata": {
    "id": "_mrftRg0WmYM",
    "outputId": "810a212e-5527-4a6f-89a9-845ce57c0a5d"
   },
   "outputs": [
    {
     "data": {
      "text/plain": [
       "array([9, 0])"
      ]
     },
     "execution_count": 16,
     "metadata": {},
     "output_type": "execute_result"
    }
   ],
   "source": [
    "a[-3:-1]"
   ]
  },
  {
   "cell_type": "markdown",
   "metadata": {
    "id": "bXcD1-koWmYM"
   },
   "source": [
    "# Plotting a Vector"
   ]
  },
  {
   "cell_type": "code",
   "execution_count": 17,
   "metadata": {
    "id": "_LTT04KPWmYM"
   },
   "outputs": [],
   "source": [
    "v = [3,4]\n",
    "u = [1,2,3]"
   ]
  },
  {
   "cell_type": "code",
   "execution_count": 18,
   "metadata": {
    "id": "I5joBdCCWmYM",
    "outputId": "3de3708a-19d1-44ec-afe1-5748ada49283"
   },
   "outputs": [
    {
     "data": {
      "text/plain": [
       "[<matplotlib.lines.Line2D at 0x16f407ff190>]"
      ]
     },
     "execution_count": 18,
     "metadata": {},
     "output_type": "execute_result"
    },
    {
     "data": {
      "image/png": "[encoded data removed]",
      "text/plain": [
       "<Figure size 432x288 with 1 Axes>"
      ]
     },
     "metadata": {
      "needs_background": "light"
     },
     "output_type": "display_data"
    }
   ],
   "source": [
    "plt.plot (v)"
   ]
  },
  {
   "cell_type": "code",
   "execution_count": 19,
   "metadata": {
    "id": "DjmW6xSaWmYM",
    "outputId": "5f04e5b9-cbf8-4fa4-d16a-4d02ec5a095a"
   },
   "outputs": [
    {
     "data": {
      "text/plain": [
       "[<matplotlib.lines.Line2D at 0x16f42877250>]"
      ]
     },
     "execution_count": 19,
     "metadata": {},
     "output_type": "execute_result"
    },
    {
     "data": {
      "image/png": "[encoded data removed]",
      "text/plain": [
       "<Figure size 432x288 with 1 Axes>"
      ]
     },
     "metadata": {
      "needs_background": "light"
     },
     "output_type": "display_data"
    }
   ],
   "source": [
    "plt.plot([0,v[0]] , [0,v[1]])"
   ]
  },
  {
   "cell_type": "markdown",
   "metadata": {
    "id": "cYpvgrZuWmYM"
   },
   "source": [
    "# Plot 2D Vector"
   ]
  },
  {
   "cell_type": "code",
   "execution_count": 20,
   "metadata": {
    "id": "KJv-oqCCWmYM",
    "outputId": "f6d86ff2-07af-4ab8-e0a3-befb72c0a9f8"
   },
   "outputs": [
    {
     "data": {
      "image/png": "[encoded data removed]",
      "text/plain": [
       "<Figure size 432x288 with 1 Axes>"
      ]
     },
     "metadata": {
      "needs_background": "light"
     },
     "output_type": "display_data"
    }
   ],
   "source": [
    "plt.plot([0,v[0]] , [0,v[1]])\n",
    "plt.plot([8,-8] , [0,0] , 'k--')\n",
    "plt.plot([0,0] , [8,-8] , 'k--')\n",
    "plt.grid()\n",
    "plt.axis((-8, 8, -8, 8))\n",
    "plt.show()"
   ]
  },
  {
   "cell_type": "markdown",
   "metadata": {
    "id": "2a5r532HWmYN"
   },
   "source": [
    "# Vector Addition"
   ]
  },
  {
   "cell_type": "code",
   "execution_count": 21,
   "metadata": {
    "id": "H_Sd_RZ9WmYN",
    "outputId": "46469c41-0b71-425e-9725-7ae53f7c6060"
   },
   "outputs": [
    {
     "name": "stdout",
     "output_type": "stream",
     "text": [
      "V3 = [4 6]\n"
     ]
    },
    {
     "data": {
      "image/png": "[encoded data removed]",
      "text/plain": [
       "<Figure size 432x288 with 1 Axes>"
      ]
     },
     "metadata": {
      "needs_background": "light"
     },
     "output_type": "display_data"
    }
   ],
   "source": [
    "v1 = np.array([1,2])\n",
    "v2 = np.array([3,4])\n",
    "v3 = v1+v2\n",
    "v3 = np.add(v1,v2)\n",
    "print('V3 =' ,v3)\n",
    "plt.plot([0,v1[0]] , [0,v1[1]] , 'r' , label = 'v1')\n",
    "plt.plot([0,v2[0]] , [0,v2[1]], 'b' , label = 'v2')\n",
    "plt.plot([0,v3[0]] , [0,v3[1]] , 'g' , label = 'v3')\n",
    "plt.plot([8,-8] , [0,0] , 'k--')\n",
    "plt.plot([0,0] , [8,-8] , 'k--')\n",
    "plt.grid()\n",
    "plt.axis((-8, 8, -8, 8))\n",
    "plt.legend()\n",
    "plt.show()"
   ]
  },
  {
   "cell_type": "code",
   "execution_count": 22,
   "metadata": {
    "id": "WJEM0FgTWmYN",
    "outputId": "a277bf48-34d0-4a79-f9fd-9ee5bd1a4f37"
   },
   "outputs": [
    {
     "data": {
      "image/png": "[encoded data removed]",
      "text/plain": [
       "<Figure size 432x288 with 1 Axes>"
      ]
     },
     "metadata": {
      "needs_background": "light"
     },
     "output_type": "display_data"
    }
   ],
   "source": [
    "plt.plot([0,v1[0]] , [0,v1[1]] , 'r' , label = 'v1')\n",
    "plt.plot([0,v2[0]]+v1[0] , [0,v2[1]]+v1[1], 'b' , label = 'v2')\n",
    "plt.plot([0,v3[0]] , [0,v3[1]] , 'g' , label = 'v3')\n",
    "plt.plot([8,-8] , [0,0] , 'k--')\n",
    "plt.plot([0,0] , [8,-8] , 'k--')\n",
    "plt.grid()\n",
    "plt.axis((-8, 8, -8, 8))\n",
    "plt.legend()\n",
    "plt.show()"
   ]
  },
  {
   "cell_type": "markdown",
   "metadata": {
    "id": "NzuYjr3eWmYN"
   },
   "source": [
    "# Scalar Multiplication"
   ]
  },
  {
   "cell_type": "code",
   "execution_count": 23,
   "metadata": {
    "id": "gqtSoK4lWmYN",
    "outputId": "3a32357a-e0a2-4860-ff09-cbf6100b71e9"
   },
   "outputs": [
    {
     "data": {
      "image/png": "[encoded data removed]",
      "text/plain": [
       "<Figure size 432x288 with 1 Axes>"
      ]
     },
     "metadata": {
      "needs_background": "light"
     },
     "output_type": "display_data"
    }
   ],
   "source": [
    "u1 = np.array([3,4])\n",
    "a = .5\n",
    "u2 = u1*a\n",
    "plt.plot([0,u1[0]] , [0,u1[1]] , 'r' , label = 'v1')\n",
    "plt.plot([0,u2[0]] , [0,u2[1]], 'b--' , label = 'v2')\n",
    "plt.plot([8,-8] , [0,0] , 'k--')\n",
    "plt.plot([0,0] , [8,-8] , 'k--')\n",
    "plt.grid()\n",
    "plt.axis((-8, 8, -8, 8))\n",
    "plt.legend()\n",
    "plt.show()"
   ]
  },
  {
   "cell_type": "code",
   "execution_count": 24,
   "metadata": {
    "id": "hskfL3t5WmYN",
    "outputId": "5c0b9139-0440-4548-ac91-e61c2d61e44f"
   },
   "outputs": [
    {
     "data": {
      "image/png": "[encoded data removed]",
      "text/plain": [
       "<Figure size 432x288 with 1 Axes>"
      ]
     },
     "metadata": {
      "needs_background": "light"
     },
     "output_type": "display_data"
    }
   ],
   "source": [
    "u1 = np.array([3,4])\n",
    "a = -.3\n",
    "u2 = u1*a\n",
    "plt.plot([0,u1[0]] , [0,u1[1]] , 'r' , label = 'v1')\n",
    "plt.plot([0,u2[0]] , [0,u2[1]], 'b' , label = 'v2')\n",
    "plt.plot([8,-8] , [0,0] , 'k--')\n",
    "plt.plot([0,0] , [8,-8] , 'k--')\n",
    "plt.grid()\n",
    "plt.axis((-8, 8, -8, 8))\n",
    "plt.legend()\n",
    "plt.show()"
   ]
  },
  {
   "cell_type": "markdown",
   "metadata": {
    "id": "fLGWn81wWmYO"
   },
   "source": [
    "# Multiplication of vectors"
   ]
  },
  {
   "cell_type": "code",
   "execution_count": 25,
   "metadata": {
    "id": "1y73JtNwWmYO",
    "outputId": "0b05ecfe-6b31-4fa4-aa9d-80a6f36f5585"
   },
   "outputs": [
    {
     "name": "stdout",
     "output_type": "stream",
     "text": [
      "[20 42 72]\n"
     ]
    }
   ],
   "source": [
    "a1 = [5 , 6 ,8]\n",
    "a2 = [4, 7 , 9]\n",
    "print(np.multiply(a1,a2))\n"
   ]
  },
  {
   "cell_type": "markdown",
   "metadata": {
    "id": "eSvsx5_ZWmYO"
   },
   "source": [
    "# Dot Product"
   ]
  },
  {
   "cell_type": "code",
   "execution_count": 26,
   "metadata": {
    "id": "wTrj_HVGWmYO",
    "outputId": "46645c25-6030-4463-dbeb-a7be32e975df"
   },
   "outputs": [
    {
     "name": "stdout",
     "output_type": "stream",
     "text": [
      " Dot product -  32\n",
      " Dot product usign np.dot 32\n",
      " Dot product usign np.inner 32\n",
      " Dot product usign np.multiply & sum 32\n",
      " Dot product usign np.matmul 32\n",
      " Dot product usign for loop 32\n"
     ]
    }
   ],
   "source": [
    "a1 = np.array([1,2,3])\n",
    "a2 = np.array([4,5,6])\n",
    "\n",
    "dotp = a1@a2\n",
    "print(\" Dot product - \",dotp)\n",
    "\n",
    "dotp = np.dot(a1,a2)\n",
    "print(\" Dot product usign np.dot\",dotp)\n",
    "\n",
    "dotp = np.inner(a1,a2)\n",
    "print(\" Dot product usign np.inner\", dotp)\n",
    "\n",
    "dotp = sum(np.multiply(a1,a2))\n",
    "print(\" Dot product usign np.multiply & sum\",dotp)\n",
    "\n",
    "dotp = np.matmul(a1,a2)\n",
    "print(\" Dot product usign np.matmul\",dotp)\n",
    "\n",
    "dotp = 0\n",
    "for i in range(len(a1)):\n",
    "    dotp = dotp + a1[i]*a2[i]\n",
    "print(\" Dot product usign for loop\" , dotp)"
   ]
  },
  {
   "cell_type": "markdown",
   "metadata": {
    "id": "usd4qdLDWmYO"
   },
   "source": [
    "# Length of Vector"
   ]
  },
  {
   "cell_type": "code",
   "execution_count": 27,
   "metadata": {
    "id": "pzwvDF1NWmYO",
    "outputId": "c15685dd-f13f-4ec0-fbe9-785f99dc3340"
   },
   "outputs": [
    {
     "data": {
      "text/plain": [
       "9.539392014169456"
      ]
     },
     "execution_count": 27,
     "metadata": {},
     "output_type": "execute_result"
    }
   ],
   "source": [
    "v3 = np.array([1,2,3,4,5,6])\n",
    "length = np.sqrt(np.dot(v3,v3))\n",
    "length"
   ]
  },
  {
   "cell_type": "code",
   "execution_count": 28,
   "metadata": {
    "id": "q-zVTUHJWmYO",
    "outputId": "b7280bd0-8886-4fdf-de2f-f798971dd51a"
   },
   "outputs": [
    {
     "data": {
      "text/plain": [
       "9.539392014169456"
      ]
     },
     "execution_count": 28,
     "metadata": {},
     "output_type": "execute_result"
    }
   ],
   "source": [
    "v3 = np.array([1,2,3,4,5,6])\n",
    "length = np.sqrt(sum(np.multiply(v3,v3)))\n",
    "length"
   ]
  },
  {
   "cell_type": "code",
   "execution_count": 29,
   "metadata": {
    "id": "d7RC_zymWmYO",
    "outputId": "de2375cd-8d0d-4cf7-e55b-bc47a4148c0e"
   },
   "outputs": [
    {
     "data": {
      "text/plain": [
       "9.539392014169456"
      ]
     },
     "execution_count": 29,
     "metadata": {},
     "output_type": "execute_result"
    }
   ],
   "source": [
    "v3 = np.array([1,2,3,4,5,6])\n",
    "length = np.sqrt(np.matmul(v3,v3))\n",
    "length"
   ]
  },
  {
   "cell_type": "markdown",
   "metadata": {
    "id": "i9SSkRqsWmYP"
   },
   "source": [
    "# Normalized Vector"
   ]
  },
  {
   "cell_type": "code",
   "execution_count": 30,
   "metadata": {
    "id": "6UV45OPaWmYP",
    "outputId": "1967d56b-3b7a-4482-bfe2-b453f2331350"
   },
   "outputs": [
    {
     "data": {
      "text/plain": [
       "(3.605551275463989, array([0.5547002 , 0.83205029]))"
      ]
     },
     "execution_count": 30,
     "metadata": {},
     "output_type": "execute_result"
    }
   ],
   "source": [
    "v1 = [2,3]\n",
    "length_v1 = np.sqrt(np.dot(v1,v1))\n",
    "norm_v1 = v1/length_v1\n",
    "length_v1 , norm_v1"
   ]
  },
  {
   "cell_type": "code",
   "execution_count": 31,
   "metadata": {
    "id": "lkUVcrcXWmYP",
    "outputId": "eac00d93-a469-4c01-dbe2-38e7df9143cd"
   },
   "outputs": [
    {
     "data": {
      "text/plain": [
       "array([0.5547002 , 0.83205029])"
      ]
     },
     "execution_count": 31,
     "metadata": {},
     "output_type": "execute_result"
    }
   ],
   "source": [
    "v1 = [2,3]\n",
    "norm_v1 = v1/np.linalg.norm(v1)\n",
    "norm_v1"
   ]
  },
  {
   "cell_type": "markdown",
   "metadata": {
    "id": "LkiLJe4dWmYP"
   },
   "source": [
    "# Angle between vectors"
   ]
  },
  {
   "cell_type": "code",
   "execution_count": 32,
   "metadata": {
    "id": "RQzerQ2PWmYP",
    "outputId": "5107df1d-c318-4fa1-8325-bb61f7ba825c"
   },
   "outputs": [
    {
     "data": {
      "image/png": "[encoded data removed]",
      "text/plain": [
       "<Figure size 432x288 with 1 Axes>"
      ]
     },
     "metadata": {
      "needs_background": "light"
     },
     "output_type": "display_data"
    }
   ],
   "source": [
    "#First Method\n",
    "v1 = np.array([8,4])\n",
    "v2 = np.array([-4,8])\n",
    "ang = np.rad2deg(np.arccos( np.dot(v1,v2) / (np.linalg.norm(v1)*np.linalg.norm(v2))))\n",
    "plt.plot([0,v1[0]] , [0,v1[1]] , 'r' , label = 'v1')\n",
    "plt.plot([0,v2[0]]+v1[0] , [0,v2[1]]+v1[1], 'b' , label = 'v2')\n",
    "plt.plot([16,-16] , [0,0] , 'k--')\n",
    "plt.plot([0,0] , [16,-16] , 'k--')\n",
    "plt.grid()\n",
    "plt.axis((-16, 16, -16, 16))\n",
    "plt.legend()\n",
    "plt.title('Angle between Vectors - %s'  %ang)\n",
    "plt.show()"
   ]
  },
  {
   "cell_type": "code",
   "execution_count": 33,
   "metadata": {
    "id": "l3RBdunSWmYP",
    "outputId": "d18ad557-ebbd-47a3-8e98-2951d7179bd0"
   },
   "outputs": [
    {
     "name": "stdout",
     "output_type": "stream",
     "text": [
      "Angle between Vectors - 90.0\n"
     ]
    }
   ],
   "source": [
    "#Second Method\n",
    "v1 = np.array([4,3])\n",
    "v2 = np.array([-3,4])\n",
    "lengthV1 = np.sqrt(np.dot(v1,v1)) \n",
    "lengthV2  = np.sqrt(np.dot(v2,v2))\n",
    "ang = np.rad2deg(np.arccos( np.dot(v1,v2) / (lengthV1 * lengthV2)))\n",
    "print('Angle between Vectors - %s' %ang)"
   ]
  },
  {
   "cell_type": "code",
   "execution_count": 34,
   "metadata": {
    "id": "zbvCtf7RWmYP",
    "outputId": "abbc2a9f-7b33-4ea6-92a5-2aa8261ae8e4"
   },
   "outputs": [
    {
     "data": {
      "text/plain": [
       "Text(0.5, 0.92, 'Angle between vectors: 103.01589221967097 degrees.')"
      ]
     },
     "execution_count": 34,
     "metadata": {},
     "output_type": "execute_result"
    },
    {
     "data": {
      "image/png": "[encoded data removed]",
      "text/plain": [
       "<Figure size 432x288 with 1 Axes>"
      ]
     },
     "metadata": {
      "needs_background": "light"
     },
     "output_type": "display_data"
    }
   ],
   "source": [
    "v1 = np.array([1,2,-3])\n",
    "v2 = np.array([7,-4,2])\n",
    "fig = plt.figure()\n",
    "ax = Axes3D(fig)\n",
    "ax.plot([0, v1[0]],[0, v1[1]],[0, v1[2]],'b')\n",
    "ax.plot([0, v2[0]],[0, v2[1]],[0, v2[2]],'r')\n",
    "ang = np.rad2deg(np.arccos( np.dot(v1,v2) / (np.linalg.norm(v1)*np.linalg.norm(v2)) ))\n",
    "plt.title('Angle between vectors: %s degrees.' %ang)"
   ]
  },
  {
   "cell_type": "markdown",
   "metadata": {
    "id": "TJOo36DrWmYP"
   },
   "source": [
    "# Inner & outer products"
   ]
  },
  {
   "cell_type": "code",
   "execution_count": 35,
   "metadata": {
    "id": "9TzZMz40WmYQ",
    "outputId": "a0e652a3-3aec-415a-f86e-2bb4f01386cc"
   },
   "outputs": [
    {
     "name": "stdout",
     "output_type": "stream",
     "text": [
      "\n",
      " Inner Product ==>  \n",
      " 32\n",
      "\n",
      " Outer Product ==>  \n",
      " [[ 4  5  6]\n",
      " [ 8 10 12]\n",
      " [12 15 18]]\n"
     ]
    }
   ],
   "source": [
    "v1 = np.array([1,2,3])\n",
    "v2 = np.array([4,5,6])\n",
    "np.inner(v1,v2)\n",
    "\n",
    "print(\"\\n Inner Product ==>  \\n\", np.inner(v1,v2))\n",
    "print(\"\\n Outer Product ==>  \\n\", np.outer(v1,v2))"
   ]
  },
  {
   "cell_type": "markdown",
   "metadata": {
    "id": "Bhgqpum0WmYQ"
   },
   "source": [
    "# Vector Cross Product"
   ]
  },
  {
   "cell_type": "code",
   "execution_count": 36,
   "metadata": {
    "id": "Y7c8tVSeWmYQ",
    "outputId": "a8f75f5c-739e-44a6-86dc-af04cbd933e4"
   },
   "outputs": [
    {
     "name": "stdout",
     "output_type": "stream",
     "text": [
      "\n",
      "Vector Cross Product ==>  \n",
      " [-3  6 -3]\n"
     ]
    }
   ],
   "source": [
    "v1 = np.array([1,2,3])\n",
    "v2 = np.array([4,5,6])\n",
    "print(\"\\nVector Cross Product ==>  \\n\", np.cross(v1,v2))"
   ]
  },
  {
   "cell_type": "markdown",
   "metadata": {
    "id": "L8qDAUeZWmYQ"
   },
   "source": [
    "# Matrix Operations"
   ]
  },
  {
   "cell_type": "markdown",
   "metadata": {
    "id": "OxgQmWjIWmYQ"
   },
   "source": [
    "##  Matrix Creation"
   ]
  },
  {
   "cell_type": "code",
   "execution_count": 37,
   "metadata": {
    "id": "pIW1du9IWmYQ"
   },
   "outputs": [],
   "source": [
    "A = np.array([[1,2,3,4] , [5,6,7,8] , [10 , 11 , 12 ,13] , [14,15,16,17]])"
   ]
  },
  {
   "cell_type": "code",
   "execution_count": 38,
   "metadata": {
    "id": "uRCP1S0IWmYQ",
    "outputId": "8c30cffc-547e-4893-b5d2-721d3dc0a310"
   },
   "outputs": [
    {
     "data": {
      "text/plain": [
       "array([[ 1,  2,  3,  4],\n",
       "       [ 5,  6,  7,  8],\n",
       "       [10, 11, 12, 13],\n",
       "       [14, 15, 16, 17]])"
      ]
     },
     "execution_count": 38,
     "metadata": {},
     "output_type": "execute_result"
    }
   ],
   "source": [
    "A"
   ]
  },
  {
   "cell_type": "code",
   "execution_count": 39,
   "metadata": {
    "id": "jDDmXoJvWmYQ",
    "outputId": "ae39aa30-eb34-408d-dcf4-5070863c2676"
   },
   "outputs": [
    {
     "data": {
      "text/plain": [
       "numpy.ndarray"
      ]
     },
     "execution_count": 39,
     "metadata": {},
     "output_type": "execute_result"
    }
   ],
   "source": [
    "type(A)"
   ]
  },
  {
   "cell_type": "code",
   "execution_count": 40,
   "metadata": {
    "id": "LNAYny-HWmYQ",
    "outputId": "ddac94ec-90c7-4b11-b159-9fcd03b450f4"
   },
   "outputs": [
    {
     "data": {
      "text/plain": [
       "dtype('int32')"
      ]
     },
     "execution_count": 40,
     "metadata": {},
     "output_type": "execute_result"
    }
   ],
   "source": [
    "A.dtype"
   ]
  },
  {
   "cell_type": "code",
   "execution_count": 41,
   "metadata": {
    "id": "hHVfJzoCWmYR",
    "outputId": "4548aeee-3b93-40fb-e69f-54c2ee983ae3"
   },
   "outputs": [
    {
     "data": {
      "text/plain": [
       "array([[ 1.5 ,  2.07,  3.  ,  4.  ],\n",
       "       [ 5.  ,  6.  ,  7.  ,  8.  ],\n",
       "       [10.  , 11.  , 12.  , 13.  ],\n",
       "       [14.  , 15.  , 16.  , 17.  ]])"
      ]
     },
     "execution_count": 41,
     "metadata": {},
     "output_type": "execute_result"
    }
   ],
   "source": [
    "B = np.array([[1.5,2.07,3,4] , [5,6,7,8] , [10 , 11 , 12 ,13] , [14,15,16,17]])\n",
    "B"
   ]
  },
  {
   "cell_type": "code",
   "execution_count": 42,
   "metadata": {
    "id": "JkKJV2N-WmYR",
    "outputId": "033ebae1-f721-4911-8cb3-2908f032118f"
   },
   "outputs": [
    {
     "data": {
      "text/plain": [
       "numpy.ndarray"
      ]
     },
     "execution_count": 42,
     "metadata": {},
     "output_type": "execute_result"
    }
   ],
   "source": [
    "type(B)"
   ]
  },
  {
   "cell_type": "code",
   "execution_count": 43,
   "metadata": {
    "id": "OxvzunuYWmYR",
    "outputId": "35511c66-8795-4015-8b8d-60da1d94728d"
   },
   "outputs": [
    {
     "data": {
      "text/plain": [
       "dtype('float64')"
      ]
     },
     "execution_count": 43,
     "metadata": {},
     "output_type": "execute_result"
    }
   ],
   "source": [
    "B.dtype"
   ]
  },
  {
   "cell_type": "code",
   "execution_count": 44,
   "metadata": {
    "id": "OWU40KfoWmYS",
    "outputId": "5f665e1f-4596-4636-a18b-6e2dd2f6b28a"
   },
   "outputs": [
    {
     "data": {
      "text/plain": [
       "(4, 4)"
      ]
     },
     "execution_count": 44,
     "metadata": {},
     "output_type": "execute_result"
    }
   ],
   "source": [
    "A.shape"
   ]
  },
  {
   "cell_type": "code",
   "execution_count": 45,
   "metadata": {
    "id": "IVK8rqIEWmYS",
    "outputId": "63d67acf-4932-466d-c929-ebc0036a84aa"
   },
   "outputs": [
    {
     "data": {
      "text/plain": [
       "array([1, 2, 3, 4])"
      ]
     },
     "execution_count": 45,
     "metadata": {},
     "output_type": "execute_result"
    }
   ],
   "source": [
    "A[0,]"
   ]
  },
  {
   "cell_type": "code",
   "execution_count": 46,
   "metadata": {
    "id": "thxiOnS9WmYS",
    "outputId": "8c96bbc7-e5a9-4e43-ee96-370415535521"
   },
   "outputs": [
    {
     "data": {
      "text/plain": [
       "array([ 1,  5, 10, 14])"
      ]
     },
     "execution_count": 46,
     "metadata": {},
     "output_type": "execute_result"
    }
   ],
   "source": [
    "A[:,0]"
   ]
  },
  {
   "cell_type": "code",
   "execution_count": 47,
   "metadata": {
    "id": "iCdwgKXUWmYS",
    "outputId": "d94628e0-49e1-40d8-bb16-04ddfb17b642"
   },
   "outputs": [
    {
     "data": {
      "text/plain": [
       "1"
      ]
     },
     "execution_count": 47,
     "metadata": {},
     "output_type": "execute_result"
    }
   ],
   "source": [
    "A[0,0]"
   ]
  },
  {
   "cell_type": "code",
   "execution_count": 48,
   "metadata": {
    "id": "EsVNZ9p_WmYS",
    "outputId": "0945f09d-b75d-4f27-b094-b3da30536495"
   },
   "outputs": [
    {
     "data": {
      "text/plain": [
       "1"
      ]
     },
     "execution_count": 48,
     "metadata": {},
     "output_type": "execute_result"
    }
   ],
   "source": [
    "A[0][0]"
   ]
  },
  {
   "cell_type": "code",
   "execution_count": 49,
   "metadata": {
    "id": "eM8ivDWRWmYT",
    "outputId": "cd218bac-52a2-4838-b503-e93d647c6e27"
   },
   "outputs": [
    {
     "data": {
      "text/plain": [
       "array([[ 6,  7],\n",
       "       [11, 12]])"
      ]
     },
     "execution_count": 49,
     "metadata": {},
     "output_type": "execute_result"
    }
   ],
   "source": [
    "A[1:3 , 1:3]"
   ]
  },
  {
   "cell_type": "markdown",
   "metadata": {
    "id": "AW85j90nWmYT"
   },
   "source": [
    "# Zero Matrix"
   ]
  },
  {
   "cell_type": "code",
   "execution_count": 50,
   "metadata": {
    "id": "m0PtdsmFWmYT",
    "outputId": "b9eafb36-b503-4db4-9dfd-22636794ff37"
   },
   "outputs": [
    {
     "data": {
      "text/plain": [
       "array([[0., 0., 0.],\n",
       "       [0., 0., 0.],\n",
       "       [0., 0., 0.]])"
      ]
     },
     "execution_count": 50,
     "metadata": {},
     "output_type": "execute_result"
    }
   ],
   "source": [
    "np.zeros(9).reshape(3,3)"
   ]
  },
  {
   "cell_type": "code",
   "execution_count": 51,
   "metadata": {
    "id": "U1gziadpWmYT",
    "outputId": "4cd1dcca-67c0-4175-f420-41f984f66470"
   },
   "outputs": [
    {
     "data": {
      "text/plain": [
       "array([[0., 0., 0.],\n",
       "       [0., 0., 0.],\n",
       "       [0., 0., 0.]])"
      ]
     },
     "execution_count": 51,
     "metadata": {},
     "output_type": "execute_result"
    }
   ],
   "source": [
    "np.zeros((3,3))"
   ]
  },
  {
   "cell_type": "markdown",
   "metadata": {
    "id": "d1WdqmYAWmYT"
   },
   "source": [
    "# Matrix of Ones"
   ]
  },
  {
   "cell_type": "code",
   "execution_count": 52,
   "metadata": {
    "id": "qjy3rWBwWmYU",
    "outputId": "fdbffdc1-ec15-4de6-9ed8-3bf7d80c673b"
   },
   "outputs": [
    {
     "data": {
      "text/plain": [
       "array([[1., 1., 1.],\n",
       "       [1., 1., 1.],\n",
       "       [1., 1., 1.]])"
      ]
     },
     "execution_count": 52,
     "metadata": {},
     "output_type": "execute_result"
    }
   ],
   "source": [
    "np.ones(9).reshape(3,3)"
   ]
  },
  {
   "cell_type": "code",
   "execution_count": 53,
   "metadata": {
    "id": "7E88XeiFWmYU",
    "outputId": "c35e55ab-f4e7-4350-e478-0ae892c3180a"
   },
   "outputs": [
    {
     "data": {
      "text/plain": [
       "array([[1., 1., 1.],\n",
       "       [1., 1., 1.],\n",
       "       [1., 1., 1.]])"
      ]
     },
     "execution_count": 53,
     "metadata": {},
     "output_type": "execute_result"
    }
   ],
   "source": [
    "np.ones((3,3))"
   ]
  },
  {
   "cell_type": "markdown",
   "metadata": {
    "id": "4MPtITl9WmYU"
   },
   "source": [
    "# Matrix with Random Numbers"
   ]
  },
  {
   "cell_type": "code",
   "execution_count": 54,
   "metadata": {
    "id": "Hab24WdfWmYU",
    "outputId": "70b23f2a-d093-4f89-c070-18897b539685"
   },
   "outputs": [
    {
     "data": {
      "text/plain": [
       "array([[0.74808292, 0.19613126, 0.09645604],\n",
       "       [0.95085563, 0.71841429, 0.21064977],\n",
       "       [0.54488954, 0.64420771, 0.92128719]])"
      ]
     },
     "execution_count": 54,
     "metadata": {},
     "output_type": "execute_result"
    }
   ],
   "source": [
    "X = np.random.random((3,3))\n",
    "X"
   ]
  },
  {
   "cell_type": "markdown",
   "metadata": {
    "id": "TjRNze8HWmYU"
   },
   "source": [
    "# Identity Matrix"
   ]
  },
  {
   "cell_type": "code",
   "execution_count": 55,
   "metadata": {
    "id": "oevhUQcfWmYW",
    "outputId": "90c9554a-6fe7-4503-e2ad-90b07df4e3ce"
   },
   "outputs": [
    {
     "data": {
      "text/plain": [
       "array([[1., 0., 0., 0., 0., 0., 0., 0., 0.],\n",
       "       [0., 1., 0., 0., 0., 0., 0., 0., 0.],\n",
       "       [0., 0., 1., 0., 0., 0., 0., 0., 0.],\n",
       "       [0., 0., 0., 1., 0., 0., 0., 0., 0.],\n",
       "       [0., 0., 0., 0., 1., 0., 0., 0., 0.],\n",
       "       [0., 0., 0., 0., 0., 1., 0., 0., 0.],\n",
       "       [0., 0., 0., 0., 0., 0., 1., 0., 0.],\n",
       "       [0., 0., 0., 0., 0., 0., 0., 1., 0.],\n",
       "       [0., 0., 0., 0., 0., 0., 0., 0., 1.]])"
      ]
     },
     "execution_count": 55,
     "metadata": {},
     "output_type": "execute_result"
    }
   ],
   "source": [
    "I = np.eye(9)\n",
    "I"
   ]
  },
  {
   "cell_type": "markdown",
   "metadata": {
    "id": "FtdKYVc5WmYW"
   },
   "source": [
    "# Diagonal Matrix "
   ]
  },
  {
   "cell_type": "code",
   "execution_count": 56,
   "metadata": {
    "id": "sMJe53rJWmYW",
    "outputId": "f4ea934a-9269-4b7b-8d9a-083d25ed74b2"
   },
   "outputs": [
    {
     "data": {
      "text/plain": [
       "array([[1, 0, 0, 0, 0, 0, 0, 0],\n",
       "       [0, 2, 0, 0, 0, 0, 0, 0],\n",
       "       [0, 0, 3, 0, 0, 0, 0, 0],\n",
       "       [0, 0, 0, 4, 0, 0, 0, 0],\n",
       "       [0, 0, 0, 0, 5, 0, 0, 0],\n",
       "       [0, 0, 0, 0, 0, 6, 0, 0],\n",
       "       [0, 0, 0, 0, 0, 0, 7, 0],\n",
       "       [0, 0, 0, 0, 0, 0, 0, 8]])"
      ]
     },
     "execution_count": 56,
     "metadata": {},
     "output_type": "execute_result"
    }
   ],
   "source": [
    "D = np.diag([1,2,3,4,5,6,7,8])\n",
    "D"
   ]
  },
  {
   "cell_type": "markdown",
   "metadata": {
    "id": "qWhmrFaTWmYW"
   },
   "source": [
    "# Traingular Matrices (lower & Upper triangular matrix)"
   ]
  },
  {
   "cell_type": "code",
   "execution_count": 57,
   "metadata": {
    "id": "hgfJXF9KWmYW",
    "outputId": "14d705a6-7c9c-4660-edbf-0a1f046973c8"
   },
   "outputs": [
    {
     "name": "stdout",
     "output_type": "stream",
     "text": [
      "lower triangular matrix - \n",
      " [[ 1.40351974 -2.31315825  0.80793678 -0.95491571  0.61684203]\n",
      " [ 1.24093249  1.58677658 -0.30840406 -0.09227841 -0.94278624]\n",
      " [-1.22654976  0.50299091 -1.20471188  0.18774412  0.3163059 ]\n",
      " [-0.95431896 -0.24195352  1.51334734 -0.20268775  0.56140434]\n",
      " [-0.89663451  1.21517983 -0.27040613  0.62186785  0.22457977]]\n",
      "\n",
      "\n",
      "lower triangular matrix - \n",
      " [[ 1.40351974  0.          0.          0.          0.        ]\n",
      " [ 1.24093249  1.58677658  0.          0.          0.        ]\n",
      " [-1.22654976  0.50299091 -1.20471188  0.          0.        ]\n",
      " [-0.95431896 -0.24195352  1.51334734 -0.20268775  0.        ]\n",
      " [-0.89663451  1.21517983 -0.27040613  0.62186785  0.22457977]]\n",
      "\n",
      "\n",
      "Upper triangular matrix - \n",
      " [[ 1.40351974 -2.31315825  0.80793678 -0.95491571  0.61684203]\n",
      " [ 0.          1.58677658 -0.30840406 -0.09227841 -0.94278624]\n",
      " [ 0.          0.         -1.20471188  0.18774412  0.3163059 ]\n",
      " [ 0.          0.          0.         -0.20268775  0.56140434]\n",
      " [ 0.          0.          0.          0.          0.22457977]]\n"
     ]
    }
   ],
   "source": [
    "M = np.random.randn(5,5)\n",
    "U = np.triu(M)\n",
    "L = np.tril(M)\n",
    "print(\"lower triangular matrix - \\n\" , M)\n",
    "print(\"\\n\")\n",
    "\n",
    "\n",
    "print(\"lower triangular matrix - \\n\" , L)\n",
    "print(\"\\n\")\n",
    "\n",
    "print(\"Upper triangular matrix - \\n\" , U)"
   ]
  },
  {
   "cell_type": "markdown",
   "metadata": {
    "id": "yzWPd59CWmYX"
   },
   "source": [
    "# Concatenate Matrices"
   ]
  },
  {
   "cell_type": "code",
   "execution_count": 58,
   "metadata": {
    "id": "mxrR8cdnWmYX",
    "outputId": "377ecd4b-bea3-4d08-f944-de1b8c01f69b"
   },
   "outputs": [
    {
     "data": {
      "text/plain": [
       "(array([[1, 2],\n",
       "        [3, 4],\n",
       "        [5, 6],\n",
       "        [1, 1],\n",
       "        [1, 1]]),\n",
       " (5, 2),\n",
       " numpy.ndarray,\n",
       " dtype('int32'))"
      ]
     },
     "execution_count": 58,
     "metadata": {},
     "output_type": "execute_result"
    }
   ],
   "source": [
    "A = np.array([[1,2] , [3,4] ,[5,6]])\n",
    "B = np.array([[1,1] , [1,1]])\n",
    "C = np.concatenate((A,B))\n",
    "C , C.shape , type(C) , C.dtype"
   ]
  },
  {
   "cell_type": "code",
   "execution_count": 59,
   "metadata": {
    "id": "cpUWHVs0WmYX",
    "outputId": "b8c7c5a1-f736-4523-ac87-7324fa3e156c"
   },
   "outputs": [
    {
     "data": {
      "text/plain": [
       "array([[8, 8, 8, 8, 8],\n",
       "       [8, 8, 8, 8, 8],\n",
       "       [8, 8, 8, 8, 8],\n",
       "       [8, 8, 8, 8, 8],\n",
       "       [8, 8, 8, 8, 8]])"
      ]
     },
     "execution_count": 59,
     "metadata": {},
     "output_type": "execute_result"
    }
   ],
   "source": [
    "np.full((5,5) , 8)"
   ]
  },
  {
   "cell_type": "code",
   "execution_count": 60,
   "metadata": {
    "id": "hGVRlO71WmYX",
    "outputId": "a5ffd24a-e71b-44b8-ea6c-198af1a3f4fc"
   },
   "outputs": [
    {
     "data": {
      "text/plain": [
       "array([[ 1.40351974, -2.31315825,  0.80793678, -0.95491571,  0.61684203],\n",
       "       [ 1.24093249,  1.58677658, -0.30840406, -0.09227841, -0.94278624],\n",
       "       [-1.22654976,  0.50299091, -1.20471188,  0.18774412,  0.3163059 ],\n",
       "       [-0.95431896, -0.24195352,  1.51334734, -0.20268775,  0.56140434],\n",
       "       [-0.89663451,  1.21517983, -0.27040613,  0.62186785,  0.22457977]])"
      ]
     },
     "execution_count": 60,
     "metadata": {},
     "output_type": "execute_result"
    }
   ],
   "source": [
    "M"
   ]
  },
  {
   "cell_type": "code",
   "execution_count": 61,
   "metadata": {
    "id": "VRtcLiNYWmYX",
    "outputId": "aa2f8b7a-ad92-4043-9bce-09e0dbb09368"
   },
   "outputs": [
    {
     "data": {
      "text/plain": [
       "array([ 1.40351974, -2.31315825,  0.80793678, -0.95491571,  0.61684203,\n",
       "        1.24093249,  1.58677658, -0.30840406, -0.09227841, -0.94278624,\n",
       "       -1.22654976,  0.50299091, -1.20471188,  0.18774412,  0.3163059 ,\n",
       "       -0.95431896, -0.24195352,  1.51334734, -0.20268775,  0.56140434,\n",
       "       -0.89663451,  1.21517983, -0.27040613,  0.62186785,  0.22457977])"
      ]
     },
     "execution_count": 61,
     "metadata": {},
     "output_type": "execute_result"
    }
   ],
   "source": [
    "M.flatten()"
   ]
  },
  {
   "cell_type": "markdown",
   "metadata": {
    "id": "PgyjpHD3WmYX"
   },
   "source": [
    "# Matrix Addition"
   ]
  },
  {
   "cell_type": "code",
   "execution_count": 62,
   "metadata": {
    "id": "OYhmtCoeWmYX",
    "outputId": "14a1854f-6a58-4daf-f9e2-cbe5ad5bbffa"
   },
   "outputs": [
    {
     "name": "stdout",
     "output_type": "stream",
     "text": [
      "\n",
      " First Matrix (M)  ==>  \n",
      " [[ 1  2  3]\n",
      " [ 4 -3  6]\n",
      " [ 7  8  0]]\n",
      "\n",
      " Second Matrix (N)  ==>  \n",
      " [[1 1 1]\n",
      " [2 2 2]\n",
      " [3 3 3]]\n",
      "\n",
      " Matrix Addition (M+N)  ==>  \n",
      " [[ 2  3  4]\n",
      " [ 6 -1  8]\n",
      " [10 11  3]]\n",
      "\n",
      " Matrix Addition using np.add  ==>  \n",
      " [[ 2.  3.  4.]\n",
      " [ 6. -1.  8.]\n",
      " [10. 11.  3.]]\n"
     ]
    }
   ],
   "source": [
    "#********************************************************#\n",
    "M = np.array([[1,2,3],[4,-3,6],[7,8,0]])\n",
    "N = np.array([[1,1,1],[2,2,2],[3,3,3]])\n",
    "\n",
    "print(\"\\n First Matrix (M)  ==>  \\n\", M)\n",
    "print(\"\\n Second Matrix (N)  ==>  \\n\", N)\n",
    "\n",
    "C = M+N\n",
    "print(\"\\n Matrix Addition (M+N)  ==>  \\n\", C)\n",
    "\n",
    "# OR\n",
    "\n",
    "C = np.add(M,N,dtype = np.float64)\n",
    "print(\"\\n Matrix Addition using np.add  ==>  \\n\", C)\n",
    "\n",
    "#********************************************************#"
   ]
  },
  {
   "cell_type": "markdown",
   "metadata": {
    "id": "1oVF-a8GWmYY"
   },
   "source": [
    "# Matrix subtraction"
   ]
  },
  {
   "cell_type": "code",
   "execution_count": 63,
   "metadata": {
    "id": "MsFXsmZ-WmYY",
    "outputId": "96ba0af1-0741-49fd-9e1c-d07014a5e159"
   },
   "outputs": [
    {
     "name": "stdout",
     "output_type": "stream",
     "text": [
      "\n",
      " First Matrix (M)  ==>  \n",
      " [[ 1  2  3]\n",
      " [ 4 -3  6]\n",
      " [ 7  8  0]]\n",
      "\n",
      " Second Matrix (N)  ==>  \n",
      " [[1 1 1]\n",
      " [2 2 2]\n",
      " [3 3 3]]\n",
      "\n",
      " Matrix Subtraction (M-N)  ==>  \n",
      " [[ 0  1  2]\n",
      " [ 2 -5  4]\n",
      " [ 4  5 -3]]\n",
      "\n",
      " Matrix Subtraction using np.subtract  ==>  \n",
      " [[ 0.  1.  2.]\n",
      " [ 2. -5.  4.]\n",
      " [ 4.  5. -3.]]\n"
     ]
    }
   ],
   "source": [
    "#********************************************************#\n",
    "M = np.array([[1,2,3],[4,-3,6],[7,8,0]])\n",
    "N = np.array([[1,1,1],[2,2,2],[3,3,3]])\n",
    "\n",
    "print(\"\\n First Matrix (M)  ==>  \\n\", M)\n",
    "print(\"\\n Second Matrix (N)  ==>  \\n\", N)\n",
    "\n",
    "C = M-N\n",
    "print(\"\\n Matrix Subtraction (M-N)  ==>  \\n\", C)\n",
    "\n",
    "# OR\n",
    "\n",
    "C = np.subtract(M,N,dtype = np.float64)\n",
    "print(\"\\n Matrix Subtraction using np.subtract  ==>  \\n\", C)\n",
    "\n",
    "#********************************************************#"
   ]
  },
  {
   "cell_type": "markdown",
   "metadata": {
    "id": "kXdnupYHWmYY"
   },
   "source": [
    "# Matrices Scalar Multiplication"
   ]
  },
  {
   "cell_type": "code",
   "execution_count": 64,
   "metadata": {
    "id": "MiED54VyWmYY",
    "outputId": "0d1d04d9-544f-4e42-a30a-199e40dbfbc7"
   },
   "outputs": [
    {
     "name": "stdout",
     "output_type": "stream",
     "text": [
      "\n",
      " Matrix (M)  ==>  \n",
      " [[ 1  2  3]\n",
      " [ 4 -3  6]\n",
      " [ 7  8  0]]\n",
      "\n",
      "Matrices Scalar Multiplication ==>  \n",
      " [[ 10  20  30]\n",
      " [ 40 -30  60]\n",
      " [ 70  80   0]]\n",
      "\n",
      "Matrices Scalar Multiplication ==>  \n",
      " [[ 10  20  30]\n",
      " [ 40 -30  60]\n",
      " [ 70  80   0]]\n"
     ]
    }
   ],
   "source": [
    "M = np.array([[1,2,3],[4,-3,6],[7,8,0]])\n",
    "\n",
    "C = 10\n",
    "\n",
    "print(\"\\n Matrix (M)  ==>  \\n\", M)\n",
    "\n",
    "print(\"\\nMatrices Scalar Multiplication ==>  \\n\", C*M)\n",
    "\n",
    "# OR\n",
    "\n",
    "print(\"\\nMatrices Scalar Multiplication ==>  \\n\", np.multiply(C,M))"
   ]
  },
  {
   "cell_type": "markdown",
   "metadata": {
    "id": "kBzpA0HbWmYY"
   },
   "source": [
    "# Transpose of a matrix"
   ]
  },
  {
   "cell_type": "code",
   "execution_count": 65,
   "metadata": {
    "id": "zM8dZsQiWmYY",
    "outputId": "adaf0e2b-96d4-4351-d424-cb52b739566e"
   },
   "outputs": [
    {
     "name": "stdout",
     "output_type": "stream",
     "text": [
      "\n",
      " Matrix (M)  ==>  \n",
      " [[ 1  2  3]\n",
      " [ 4 -3  6]\n",
      " [ 7  8  0]]\n",
      "\n",
      "Transpose of M ==>  \n",
      " [[ 1  4  7]\n",
      " [ 2 -3  8]\n",
      " [ 3  6  0]]\n",
      "\n",
      "Transpose of M ==>  \n",
      " [[ 1  4  7]\n",
      " [ 2 -3  8]\n",
      " [ 3  6  0]]\n"
     ]
    }
   ],
   "source": [
    "M = np.array([[1,2,3],[4,-3,6],[7,8,0]])\n",
    "\n",
    "print(\"\\n Matrix (M)  ==>  \\n\", M)\n",
    "\n",
    "print(\"\\nTranspose of M ==>  \\n\", np.transpose(M))\n",
    "\n",
    "# OR\n",
    "\n",
    "print(\"\\nTranspose of M ==>  \\n\", M.T)"
   ]
  },
  {
   "cell_type": "markdown",
   "metadata": {
    "id": "CTZ7sLCWWmYY"
   },
   "source": [
    "# Determinant of a matrix"
   ]
  },
  {
   "cell_type": "code",
   "execution_count": 66,
   "metadata": {
    "id": "Qme-xgrIWmYY",
    "outputId": "50686773-d088-4829-e33b-cacbef0eac00"
   },
   "outputs": [
    {
     "name": "stdout",
     "output_type": "stream",
     "text": [
      "\n",
      " Matrix (M)  ==>  \n",
      " [[ 1  2  3]\n",
      " [ 4 -3  6]\n",
      " [ 7  8  0]]\n",
      "\n",
      "Determinant of M ==>   195.0\n"
     ]
    }
   ],
   "source": [
    "M = np.array([[1,2,3],[4,-3,6],[7,8,0]])\n",
    "\n",
    "print(\"\\n Matrix (M)  ==>  \\n\", M)\n",
    "\n",
    "print(\"\\nDeterminant of M ==>  \", np.linalg.det(M))"
   ]
  },
  {
   "cell_type": "markdown",
   "metadata": {
    "id": "P84LYy0NWmYZ"
   },
   "source": [
    "# Rank of a matrix"
   ]
  },
  {
   "cell_type": "code",
   "execution_count": 67,
   "metadata": {
    "id": "LSI2S0_yWmYZ",
    "outputId": "4508da5d-c24a-46a6-fead-db69bf81c29a"
   },
   "outputs": [
    {
     "name": "stdout",
     "output_type": "stream",
     "text": [
      "\n",
      " Matrix (M)  ==>  \n",
      " [[ 1  2  3]\n",
      " [ 4 -3  6]\n",
      " [ 7  8  0]]\n",
      "\n",
      "Rank of M ==>  3\n"
     ]
    }
   ],
   "source": [
    "M = np.array([[1,2,3],[4,-3,6],[7,8,0]])\n",
    "\n",
    "print(\"\\n Matrix (M)  ==>  \\n\", M)\n",
    "\n",
    "print(\"\\nRank of M ==> \", np.linalg.matrix_rank(M))"
   ]
  },
  {
   "cell_type": "markdown",
   "metadata": {
    "id": "nd88Lw1SWmYZ"
   },
   "source": [
    "# Trace of matrix"
   ]
  },
  {
   "cell_type": "code",
   "execution_count": 68,
   "metadata": {
    "id": "ZtRS1XjyWmYZ",
    "outputId": "fe3ceae9-e55f-463a-8ff8-87c6bda48350"
   },
   "outputs": [
    {
     "name": "stdout",
     "output_type": "stream",
     "text": [
      "\n",
      " Matrix (M)  ==>  \n",
      " [[ 1  2  3]\n",
      " [ 4 -3  6]\n",
      " [ 7  8  0]]\n",
      "\n",
      "Trace of M ==>  -2\n"
     ]
    }
   ],
   "source": [
    "M = np.array([[1,2,3],[4,-3,6],[7,8,0]])\n",
    "\n",
    "print(\"\\n Matrix (M)  ==>  \\n\", M)\n",
    "\n",
    "print(\"\\nTrace of M ==> \", np.trace(M))"
   ]
  },
  {
   "cell_type": "markdown",
   "metadata": {
    "id": "cPaCkMLWWmYZ"
   },
   "source": [
    "# Inverse of matrix A"
   ]
  },
  {
   "cell_type": "code",
   "execution_count": 69,
   "metadata": {
    "id": "Y3D54VpQWmYZ",
    "outputId": "40d2191d-e17e-42ad-db81-5c8399f00d7f"
   },
   "outputs": [
    {
     "name": "stdout",
     "output_type": "stream",
     "text": [
      "\n",
      " Matrix (M)  ==>  \n",
      " [[ 1  2  3]\n",
      " [ 4 -3  6]\n",
      " [ 7  8  0]]\n",
      "\n",
      "Inverse of M ==> \n",
      " [[-0.24615385  0.12307692  0.10769231]\n",
      " [ 0.21538462 -0.10769231  0.03076923]\n",
      " [ 0.27179487  0.03076923 -0.05641026]]\n"
     ]
    }
   ],
   "source": [
    "M = np.array([[1,2,3],[4,-3,6],[7,8,0]])\n",
    "\n",
    "print(\"\\n Matrix (M)  ==>  \\n\", M)\n",
    "\n",
    "print(\"\\nInverse of M ==> \\n\", np.linalg.inv(M))"
   ]
  },
  {
   "cell_type": "markdown",
   "metadata": {
    "id": "cwJ24qtHWmYZ"
   },
   "source": [
    "# Matrix Multiplication (pointwise multiplication)"
   ]
  },
  {
   "cell_type": "code",
   "execution_count": 70,
   "metadata": {
    "id": "xzxTOmNPWmYZ",
    "outputId": "7eea8f6b-4e5d-423f-e764-ad1c1eacccda"
   },
   "outputs": [
    {
     "name": "stdout",
     "output_type": "stream",
     "text": [
      "\n",
      " First Matrix (M)  ==>  \n",
      " [[ 1  2  3]\n",
      " [ 4 -3  6]\n",
      " [ 7  8  0]]\n",
      "\n",
      " Second Matrix (N)  ==>  \n",
      " [[1 1 1]\n",
      " [2 2 2]\n",
      " [3 3 3]]\n",
      "\n",
      " Point-Wise Multiplication of M & N  ==> \n",
      " [[ 1  2  3]\n",
      " [ 8 -6 12]\n",
      " [21 24  0]]\n",
      "\n",
      " Point-Wise Multiplication of M & N  ==> \n",
      " [[ 1  2  3]\n",
      " [ 8 -6 12]\n",
      " [21 24  0]]\n"
     ]
    }
   ],
   "source": [
    "M = np.array([[1,2,3],[4,-3,6],[7,8,0]])\n",
    "N = np.array([[1,1,1],[2,2,2],[3,3,3]])\n",
    "\n",
    "print(\"\\n First Matrix (M)  ==>  \\n\", M)\n",
    "print(\"\\n Second Matrix (N)  ==>  \\n\", N)\n",
    "\n",
    "print(\"\\n Point-Wise Multiplication of M & N  ==> \\n\", M*N)\n",
    "\n",
    "# OR\n",
    "\n",
    "print(\"\\n Point-Wise Multiplication of M & N  ==> \\n\", np.multiply(M,N))"
   ]
  },
  {
   "cell_type": "markdown",
   "metadata": {
    "id": "BmY2-Zs3WmYZ"
   },
   "source": [
    "# Matrix dot product"
   ]
  },
  {
   "cell_type": "code",
   "execution_count": 71,
   "metadata": {
    "id": "tni-ALxXWmYZ",
    "outputId": "53be441a-19ad-4b09-d261-ff06fc06043a"
   },
   "outputs": [
    {
     "name": "stdout",
     "output_type": "stream",
     "text": [
      "\n",
      " First Matrix (M)  ==>  \n",
      " [[ 1  2  3]\n",
      " [ 4 -3  6]\n",
      " [ 7  8  0]]\n",
      "\n",
      " Second Matrix (N)  ==>  \n",
      " [[1 1 1]\n",
      " [2 2 2]\n",
      " [3 3 3]]\n",
      "\n",
      " Matrix Dot Product ==> \n",
      " [[14 14 14]\n",
      " [16 16 16]\n",
      " [23 23 23]]\n",
      "\n",
      " Matrix Dot Product using np.matmul ==> \n",
      " [[14 14 14]\n",
      " [16 16 16]\n",
      " [23 23 23]]\n",
      "\n",
      " Matrix Dot Product using np.dot ==> \n",
      " [[14 14 14]\n",
      " [16 16 16]\n",
      " [23 23 23]]\n"
     ]
    }
   ],
   "source": [
    "M = np.array([[1,2,3],[4,-3,6],[7,8,0]])\n",
    "N = np.array([[1,1,1],[2,2,2],[3,3,3]])\n",
    "\n",
    "print(\"\\n First Matrix (M)  ==>  \\n\", M)\n",
    "print(\"\\n Second Matrix (N)  ==>  \\n\", N)\n",
    "\n",
    "print(\"\\n Matrix Dot Product ==> \\n\", M@N)\n",
    "\n",
    "# OR\n",
    "\n",
    "print(\"\\n Matrix Dot Product using np.matmul ==> \\n\", np.matmul(M,N))\n",
    "\n",
    "# OR\n",
    "\n",
    "print(\"\\n Matrix Dot Product using np.dot ==> \\n\", np.dot(M,N))"
   ]
  },
  {
   "cell_type": "markdown",
   "metadata": {
    "id": "MVXpYrG-WmYa"
   },
   "source": [
    "# Matrix Division"
   ]
  },
  {
   "cell_type": "code",
   "execution_count": 72,
   "metadata": {
    "id": "nNPIcaovWmYa",
    "outputId": "5335dbdb-8780-4715-e1b7-59ce6258bbaa"
   },
   "outputs": [
    {
     "name": "stdout",
     "output_type": "stream",
     "text": [
      "\n",
      " First Matrix (M)  ==>  \n",
      " [[ 1  2  3]\n",
      " [ 4 -3  6]\n",
      " [ 7  8  0]]\n",
      "\n",
      " Second Matrix (N)  ==>  \n",
      " [[1 1 1]\n",
      " [2 2 2]\n",
      " [3 3 3]]\n",
      "\n",
      " Matrix Division (M/N)   ==> \n",
      " [[ 1.          2.          3.        ]\n",
      " [ 2.         -1.5         3.        ]\n",
      " [ 2.33333333  2.66666667  0.        ]]\n",
      "\n",
      " Matrix Division (M/N)   ==> \n",
      " [[ 1.          2.          3.        ]\n",
      " [ 2.         -1.5         3.        ]\n",
      " [ 2.33333333  2.66666667  0.        ]]\n"
     ]
    }
   ],
   "source": [
    "M = np.array([[1,2,3],[4,-3,6],[7,8,0]])\n",
    "N = np.array([[1,1,1],[2,2,2],[3,3,3]])\n",
    "\n",
    "print(\"\\n First Matrix (M)  ==>  \\n\", M)\n",
    "print(\"\\n Second Matrix (N)  ==>  \\n\", N)\n",
    "\n",
    "\n",
    "print(\"\\n Matrix Division (M/N)   ==> \\n\", M/N)\n",
    "\n",
    "# OR\n",
    "\n",
    "print(\"\\n Matrix Division (M/N)   ==> \\n\", np.divide(M,N))"
   ]
  },
  {
   "cell_type": "markdown",
   "metadata": {
    "id": "JmZ9KjWfWmYa"
   },
   "source": [
    "# Sum of all elements in a matrix"
   ]
  },
  {
   "cell_type": "code",
   "execution_count": 73,
   "metadata": {
    "id": "MmEC0cB0WmYa",
    "outputId": "4778ce33-eebe-4eea-f6fe-39f6677f87e6"
   },
   "outputs": [
    {
     "name": "stdout",
     "output_type": "stream",
     "text": [
      "\n",
      " Matrix (N)  ==>  \n",
      " [[1 1 1]\n",
      " [2 2 2]\n",
      " [3 3 3]]\n",
      "Sum of all elements in a Matrix  ==>\n",
      "18\n"
     ]
    }
   ],
   "source": [
    "N = np.array([[1,1,1],[2,2,2],[3,3,3]])\n",
    "\n",
    "print(\"\\n Matrix (N)  ==>  \\n\", N)\n",
    "\n",
    "\n",
    "print (\"Sum of all elements in a Matrix  ==>\")\n",
    "print (np.sum(N))"
   ]
  },
  {
   "cell_type": "markdown",
   "metadata": {
    "id": "zxmuaUm-WmYa"
   },
   "source": [
    "# Column-Wise Addition"
   ]
  },
  {
   "cell_type": "code",
   "execution_count": 74,
   "metadata": {
    "id": "u8AIOdiSWmYa",
    "outputId": "213ae6ac-5e02-4347-cc03-1ae7d2d197f8"
   },
   "outputs": [
    {
     "name": "stdout",
     "output_type": "stream",
     "text": [
      "\n",
      " Matrix (N)  ==>  \n",
      " [[1 1 1]\n",
      " [2 2 2]\n",
      " [3 3 3]]\n",
      "Column-Wise summation ==> \n",
      "[6 6 6]\n"
     ]
    }
   ],
   "source": [
    "N = np.array([[1,1,1],[2,2,2],[3,3,3]])\n",
    "\n",
    "print(\"\\n Matrix (N)  ==>  \\n\", N)\n",
    "\n",
    "print (\"Column-Wise summation ==> \")\n",
    "print (np.sum(N,axis=0))"
   ]
  },
  {
   "cell_type": "markdown",
   "metadata": {
    "id": "DAV_rMAMWmYa"
   },
   "source": [
    "# Row-Wise Addition"
   ]
  },
  {
   "cell_type": "code",
   "execution_count": 75,
   "metadata": {
    "id": "k41uIT09WmYa",
    "outputId": "feee3525-3b38-4317-dc04-0f92fb0e1a4d"
   },
   "outputs": [
    {
     "name": "stdout",
     "output_type": "stream",
     "text": [
      "\n",
      " Matrix (N)  ==>  \n",
      " [[1 1 1]\n",
      " [2 2 2]\n",
      " [3 3 3]]\n",
      "Row-Wise summation  ==>\n",
      "[3 6 9]\n"
     ]
    }
   ],
   "source": [
    "N = np.array([[1,1,1],[2,2,2],[3,3,3]])\n",
    "\n",
    "print(\"\\n Matrix (N)  ==>  \\n\", N)\n",
    "\n",
    "print (\"Row-Wise summation  ==>\")\n",
    "print (np.sum(N,axis=1))"
   ]
  },
  {
   "cell_type": "markdown",
   "metadata": {
    "id": "NUldurcZWmYa"
   },
   "source": [
    "# Kronecker Product of matrices"
   ]
  },
  {
   "cell_type": "code",
   "execution_count": 76,
   "metadata": {
    "id": "-FWdadwBWmYb",
    "outputId": "5ae6538f-e8fa-43e0-ac21-142235f9764f"
   },
   "outputs": [
    {
     "data": {
      "text/plain": [
       "array([[1, 2, 3],\n",
       "       [4, 5, 6]])"
      ]
     },
     "execution_count": 76,
     "metadata": {},
     "output_type": "execute_result"
    }
   ],
   "source": [
    "M1 = np.array([[1,2,3] , [4,5,6]]) \n",
    "M1"
   ]
  },
  {
   "cell_type": "code",
   "execution_count": 77,
   "metadata": {
    "id": "sg9B1iS6WmYb",
    "outputId": "5c65189a-bbd5-4749-bd0f-f6a32dfe28f2"
   },
   "outputs": [
    {
     "data": {
      "text/plain": [
       "array([[10, 10, 10],\n",
       "       [10, 10, 10]])"
      ]
     },
     "execution_count": 77,
     "metadata": {},
     "output_type": "execute_result"
    }
   ],
   "source": [
    "M2 = np.array([[10,10,10],[10,10,10]])\n",
    "M2"
   ]
  },
  {
   "cell_type": "code",
   "execution_count": 78,
   "metadata": {
    "id": "erx6V6eoWmYb",
    "outputId": "593ede74-9064-4dcc-92d1-d15aa9aabfcd"
   },
   "outputs": [
    {
     "data": {
      "text/plain": [
       "array([[10, 10, 10, 20, 20, 20, 30, 30, 30],\n",
       "       [10, 10, 10, 20, 20, 20, 30, 30, 30],\n",
       "       [40, 40, 40, 50, 50, 50, 60, 60, 60],\n",
       "       [40, 40, 40, 50, 50, 50, 60, 60, 60]])"
      ]
     },
     "execution_count": 78,
     "metadata": {},
     "output_type": "execute_result"
    }
   ],
   "source": [
    "np.kron(M1,M2)"
   ]
  },
  {
   "cell_type": "markdown",
   "metadata": {
    "id": "zivbUaiEWmYb"
   },
   "source": [
    "# Matrix Vector Multiplication"
   ]
  },
  {
   "cell_type": "code",
   "execution_count": 79,
   "metadata": {
    "id": "vICx24liWmYb",
    "outputId": "81bd9374-78d4-4904-d6f8-8a4d681e7158"
   },
   "outputs": [
    {
     "name": "stdout",
     "output_type": "stream",
     "text": [
      "Matrix Vector Multiplication  ==> \n",
      " [[ 10  40  90]\n",
      " [ 40 100 180]]\n"
     ]
    }
   ],
   "source": [
    "A = np.array([[1,2,3] ,[4,5,6]])\n",
    "v = np.array([10,20,30])\n",
    "print (\"Matrix Vector Multiplication  ==> \\n\" , A*v)"
   ]
  },
  {
   "cell_type": "markdown",
   "metadata": {
    "id": "pXj2ttgRWmYb"
   },
   "source": [
    "# Matrix Vector Dot Product"
   ]
  },
  {
   "cell_type": "code",
   "execution_count": 80,
   "metadata": {
    "id": "dXFbERyfWmYb",
    "outputId": "cc3a6783-dbdd-4b01-9aa5-7f86b2063b05"
   },
   "outputs": [
    {
     "name": "stdout",
     "output_type": "stream",
     "text": [
      "Matrix Vector Multiplication  ==> \n",
      " [140 320]\n"
     ]
    }
   ],
   "source": [
    "A = np.array([[1,2,3] ,[4,5,6]])\n",
    "v = np.array([10,20,30])\n",
    "\n",
    "print (\"Matrix Vector Multiplication  ==> \\n\" , A@v)"
   ]
  },
  {
   "cell_type": "markdown",
   "metadata": {
    "id": "Yxs8VIB9WmYb"
   },
   "source": [
    "# Matrix Powers"
   ]
  },
  {
   "cell_type": "code",
   "execution_count": 81,
   "metadata": {
    "id": "wX6BdXfDWmYb",
    "outputId": "c560f882-9799-40db-d1b0-87c55a3aef8a"
   },
   "outputs": [
    {
     "data": {
      "text/plain": [
       "array([[1, 2],\n",
       "       [4, 5]])"
      ]
     },
     "execution_count": 81,
     "metadata": {},
     "output_type": "execute_result"
    }
   ],
   "source": [
    "M1 = np.array([[1,2],[4,5]])\n",
    "M1"
   ]
  },
  {
   "cell_type": "code",
   "execution_count": 82,
   "metadata": {
    "id": "wlx4TxZyWmYc",
    "outputId": "d2f506aa-4fdd-45e9-bb3c-17db8d6056d5"
   },
   "outputs": [
    {
     "data": {
      "text/plain": [
       "array([[ 57,  78],\n",
       "       [156, 213]])"
      ]
     },
     "execution_count": 82,
     "metadata": {},
     "output_type": "execute_result"
    }
   ],
   "source": [
    "#Matrix to the power 3\n",
    "\n",
    "M1@M1@M1"
   ]
  },
  {
   "cell_type": "code",
   "execution_count": 83,
   "metadata": {
    "id": "o8JPbVE9WmYc",
    "outputId": "9e9db922-546d-4292-fb67-25a4b05a137a"
   },
   "outputs": [
    {
     "data": {
      "text/plain": [
       "array([[ 57,  78],\n",
       "       [156, 213]])"
      ]
     },
     "execution_count": 83,
     "metadata": {},
     "output_type": "execute_result"
    }
   ],
   "source": [
    "#Matrix to the power 3\n",
    "\n",
    "np.linalg.matrix_power(M1,3)"
   ]
  },
  {
   "cell_type": "markdown",
   "metadata": {
    "id": "O3xpXX2tWmYc"
   },
   "source": [
    "# Tensor"
   ]
  },
  {
   "cell_type": "code",
   "execution_count": 84,
   "metadata": {
    "id": "q7-xXGjXWmYc",
    "outputId": "cbc59666-fb66-4eed-c12e-6abb9773a483"
   },
   "outputs": [
    {
     "data": {
      "text/plain": [
       "array([[[  1,   2,   3],\n",
       "        [  4,   5,   6],\n",
       "        [  7,   8,   9]],\n",
       "\n",
       "       [[ 10,  20,  30],\n",
       "        [ 40,  50,  60],\n",
       "        [ 70,  80,  90]],\n",
       "\n",
       "       [[100, 200, 300],\n",
       "        [400, 500, 600],\n",
       "        [700, 800, 900]]])"
      ]
     },
     "execution_count": 84,
     "metadata": {},
     "output_type": "execute_result"
    }
   ],
   "source": [
    "# Create Tensor\n",
    "\n",
    "T1 = np.array([\n",
    "  [[1,2,3],    [4,5,6],    [7,8,9]],\n",
    "  [[10,20,30], [40,50,60], [70,80,90]],\n",
    "  [[100,200,300], [400,500,600], [700,800,900]],\n",
    "  ])\n",
    "\n",
    "T1"
   ]
  },
  {
   "cell_type": "code",
   "execution_count": 85,
   "metadata": {
    "id": "ZiV1_KOyWmYc",
    "outputId": "6f02857d-f3e9-45c9-c273-da6ff84c9ccb"
   },
   "outputs": [
    {
     "data": {
      "text/plain": [
       "array([[[0, 0, 0],\n",
       "        [0, 0, 0],\n",
       "        [0, 0, 0]],\n",
       "\n",
       "       [[1, 1, 1],\n",
       "        [1, 1, 1],\n",
       "        [1, 1, 1]],\n",
       "\n",
       "       [[2, 2, 2],\n",
       "        [2, 2, 2],\n",
       "        [2, 2, 2]]])"
      ]
     },
     "execution_count": 85,
     "metadata": {},
     "output_type": "execute_result"
    }
   ],
   "source": [
    "T2 = np.array([\n",
    "  [[0,0,0] , [0,0,0] , [0,0,0]],\n",
    "  [[1,1,1] , [1,1,1] , [1,1,1]],\n",
    "  [[2,2,2] , [2,2,2] , [2,2,2]]\n",
    "    \n",
    "])\n",
    "\n",
    "T2"
   ]
  },
  {
   "cell_type": "markdown",
   "metadata": {
    "id": "YHqVsmD4WmYc"
   },
   "source": [
    "# Tensor Addition"
   ]
  },
  {
   "cell_type": "code",
   "execution_count": 86,
   "metadata": {
    "id": "Nt9RRMxCWmYc",
    "outputId": "7e9b7533-2a6b-4e50-f19f-0575422bf437"
   },
   "outputs": [
    {
     "data": {
      "text/plain": [
       "array([[[  1,   2,   3],\n",
       "        [  4,   5,   6],\n",
       "        [  7,   8,   9]],\n",
       "\n",
       "       [[ 11,  21,  31],\n",
       "        [ 41,  51,  61],\n",
       "        [ 71,  81,  91]],\n",
       "\n",
       "       [[102, 202, 302],\n",
       "        [402, 502, 602],\n",
       "        [702, 802, 902]]])"
      ]
     },
     "execution_count": 86,
     "metadata": {},
     "output_type": "execute_result"
    }
   ],
   "source": [
    "A = T1+T2\n",
    "A"
   ]
  },
  {
   "cell_type": "code",
   "execution_count": 87,
   "metadata": {
    "id": "RiEskt55WmYd",
    "outputId": "77d4594a-810c-4f1d-a720-fcd62485ba81"
   },
   "outputs": [
    {
     "data": {
      "text/plain": [
       "array([[[  1,   2,   3],\n",
       "        [  4,   5,   6],\n",
       "        [  7,   8,   9]],\n",
       "\n",
       "       [[ 11,  21,  31],\n",
       "        [ 41,  51,  61],\n",
       "        [ 71,  81,  91]],\n",
       "\n",
       "       [[102, 202, 302],\n",
       "        [402, 502, 602],\n",
       "        [702, 802, 902]]])"
      ]
     },
     "execution_count": 87,
     "metadata": {},
     "output_type": "execute_result"
    }
   ],
   "source": [
    "np.add(T1,T2)"
   ]
  },
  {
   "cell_type": "markdown",
   "metadata": {
    "id": "TgNb0-__WmYd"
   },
   "source": [
    "# Tensor Subtraction"
   ]
  },
  {
   "cell_type": "code",
   "execution_count": 88,
   "metadata": {
    "id": "83TeKCAfWmYd",
    "outputId": "96cb0b88-ecf1-448b-f59c-bef3448bd6c1"
   },
   "outputs": [
    {
     "data": {
      "text/plain": [
       "array([[[  1,   2,   3],\n",
       "        [  4,   5,   6],\n",
       "        [  7,   8,   9]],\n",
       "\n",
       "       [[  9,  19,  29],\n",
       "        [ 39,  49,  59],\n",
       "        [ 69,  79,  89]],\n",
       "\n",
       "       [[ 98, 198, 298],\n",
       "        [398, 498, 598],\n",
       "        [698, 798, 898]]])"
      ]
     },
     "execution_count": 88,
     "metadata": {},
     "output_type": "execute_result"
    }
   ],
   "source": [
    "S = T1-T2\n",
    "S"
   ]
  },
  {
   "cell_type": "code",
   "execution_count": 89,
   "metadata": {
    "id": "BR6TgckxWmYd",
    "outputId": "9a123c9d-906b-4bed-c0d4-8259f16d6aeb"
   },
   "outputs": [
    {
     "data": {
      "text/plain": [
       "array([[[  1,   2,   3],\n",
       "        [  4,   5,   6],\n",
       "        [  7,   8,   9]],\n",
       "\n",
       "       [[  9,  19,  29],\n",
       "        [ 39,  49,  59],\n",
       "        [ 69,  79,  89]],\n",
       "\n",
       "       [[ 98, 198, 298],\n",
       "        [398, 498, 598],\n",
       "        [698, 798, 898]]])"
      ]
     },
     "execution_count": 89,
     "metadata": {},
     "output_type": "execute_result"
    }
   ],
   "source": [
    "np.subtract(T1,T2)"
   ]
  },
  {
   "cell_type": "markdown",
   "metadata": {
    "id": "hQCAKrQhWmYd"
   },
   "source": [
    "# Tensor Element-Wise Product"
   ]
  },
  {
   "cell_type": "code",
   "execution_count": 90,
   "metadata": {
    "id": "nNPWbvj0WmYd",
    "outputId": "19bcca92-26e3-4587-ed9a-76bea80bea56"
   },
   "outputs": [
    {
     "data": {
      "text/plain": [
       "array([[[   0,    0,    0],\n",
       "        [   0,    0,    0],\n",
       "        [   0,    0,    0]],\n",
       "\n",
       "       [[  10,   20,   30],\n",
       "        [  40,   50,   60],\n",
       "        [  70,   80,   90]],\n",
       "\n",
       "       [[ 200,  400,  600],\n",
       "        [ 800, 1000, 1200],\n",
       "        [1400, 1600, 1800]]])"
      ]
     },
     "execution_count": 90,
     "metadata": {},
     "output_type": "execute_result"
    }
   ],
   "source": [
    "P = T1*T2\n",
    "P"
   ]
  },
  {
   "cell_type": "code",
   "execution_count": 91,
   "metadata": {
    "id": "oM9vvM_HWmYd",
    "outputId": "3e86f0a8-3740-4a7b-bd36-a19c64961a36"
   },
   "outputs": [
    {
     "data": {
      "text/plain": [
       "array([[[   0,    0,    0],\n",
       "        [   0,    0,    0],\n",
       "        [   0,    0,    0]],\n",
       "\n",
       "       [[  10,   20,   30],\n",
       "        [  40,   50,   60],\n",
       "        [  70,   80,   90]],\n",
       "\n",
       "       [[ 200,  400,  600],\n",
       "        [ 800, 1000, 1200],\n",
       "        [1400, 1600, 1800]]])"
      ]
     },
     "execution_count": 91,
     "metadata": {},
     "output_type": "execute_result"
    }
   ],
   "source": [
    "np.multiply(T1,T2)"
   ]
  },
  {
   "cell_type": "markdown",
   "metadata": {
    "id": "9WYoWe_aWmYd"
   },
   "source": [
    "# Tensor Element-Wise Division"
   ]
  },
  {
   "cell_type": "code",
   "execution_count": 92,
   "metadata": {
    "id": "jJFh12S8WmYe",
    "outputId": "3827046d-61d6-46ae-dd60-b8af98e225b2"
   },
   "outputs": [
    {
     "name": "stderr",
     "output_type": "stream",
     "text": [
      "<ipython-input-92-0565a8cddff2>:1: RuntimeWarning: divide by zero encountered in true_divide\n",
      "  D = T1/T2\n"
     ]
    },
    {
     "data": {
      "text/plain": [
       "array([[[ inf,  inf,  inf],\n",
       "        [ inf,  inf,  inf],\n",
       "        [ inf,  inf,  inf]],\n",
       "\n",
       "       [[ 10.,  20.,  30.],\n",
       "        [ 40.,  50.,  60.],\n",
       "        [ 70.,  80.,  90.]],\n",
       "\n",
       "       [[ 50., 100., 150.],\n",
       "        [200., 250., 300.],\n",
       "        [350., 400., 450.]]])"
      ]
     },
     "execution_count": 92,
     "metadata": {},
     "output_type": "execute_result"
    }
   ],
   "source": [
    "D = T1/T2\n",
    "D"
   ]
  },
  {
   "cell_type": "code",
   "execution_count": 93,
   "metadata": {
    "id": "jElC7YGnWmYe",
    "outputId": "b9494ff1-0466-43ae-d897-3dc659f2e2ab"
   },
   "outputs": [
    {
     "name": "stderr",
     "output_type": "stream",
     "text": [
      "<ipython-input-93-7a389c69ef3d>:1: RuntimeWarning: divide by zero encountered in true_divide\n",
      "  np.divide(T1,T2)\n"
     ]
    },
    {
     "data": {
      "text/plain": [
       "array([[[ inf,  inf,  inf],\n",
       "        [ inf,  inf,  inf],\n",
       "        [ inf,  inf,  inf]],\n",
       "\n",
       "       [[ 10.,  20.,  30.],\n",
       "        [ 40.,  50.,  60.],\n",
       "        [ 70.,  80.,  90.]],\n",
       "\n",
       "       [[ 50., 100., 150.],\n",
       "        [200., 250., 300.],\n",
       "        [350., 400., 450.]]])"
      ]
     },
     "execution_count": 93,
     "metadata": {},
     "output_type": "execute_result"
    }
   ],
   "source": [
    "np.divide(T1,T2)"
   ]
  },
  {
   "cell_type": "markdown",
   "metadata": {
    "id": "qnN8l_nEWmYe"
   },
   "source": [
    "# Tensor Dot Product"
   ]
  },
  {
   "cell_type": "code",
   "execution_count": 94,
   "metadata": {
    "id": "ADQjmf6bWmYe",
    "outputId": "a1b7056e-2d4e-4b4c-a470-762e5920dd71"
   },
   "outputs": [
    {
     "data": {
      "text/plain": [
       "array([[[  1,   2,   3],\n",
       "        [  4,   5,   6],\n",
       "        [  7,   8,   9]],\n",
       "\n",
       "       [[ 10,  20,  30],\n",
       "        [ 40,  50,  60],\n",
       "        [ 70,  80,  90]],\n",
       "\n",
       "       [[100, 200, 300],\n",
       "        [400, 500, 600],\n",
       "        [700, 800, 900]]])"
      ]
     },
     "execution_count": 94,
     "metadata": {},
     "output_type": "execute_result"
    }
   ],
   "source": [
    "T1"
   ]
  },
  {
   "cell_type": "code",
   "execution_count": 95,
   "metadata": {
    "id": "dt7WPtu8WmYe",
    "outputId": "18eef32b-70c2-41ca-f48a-7cdcd98e3b55"
   },
   "outputs": [
    {
     "data": {
      "text/plain": [
       "array([[[0, 0, 0],\n",
       "        [0, 0, 0],\n",
       "        [0, 0, 0]],\n",
       "\n",
       "       [[1, 1, 1],\n",
       "        [1, 1, 1],\n",
       "        [1, 1, 1]],\n",
       "\n",
       "       [[2, 2, 2],\n",
       "        [2, 2, 2],\n",
       "        [2, 2, 2]]])"
      ]
     },
     "execution_count": 95,
     "metadata": {},
     "output_type": "execute_result"
    }
   ],
   "source": [
    "T2"
   ]
  },
  {
   "cell_type": "code",
   "execution_count": 96,
   "metadata": {
    "id": "4gSbCqkTWmYe",
    "outputId": "65ff512b-f2ce-46ce-b2e9-fc2d268a724d"
   },
   "outputs": [
    {
     "data": {
      "text/plain": [
       "array([[  63,   63,   63],\n",
       "       [ 630,  630,  630],\n",
       "       [6300, 6300, 6300]])"
      ]
     },
     "execution_count": 96,
     "metadata": {},
     "output_type": "execute_result"
    }
   ],
   "source": [
    "np.tensordot(T1,T2)"
   ]
  },
  {
   "cell_type": "markdown",
   "metadata": {
    "id": "Q4Bnxi4EWmYe"
   },
   "source": [
    "# Solving Equations $$AX = B$$"
   ]
  },
  {
   "cell_type": "code",
   "execution_count": 97,
   "metadata": {
    "id": "SMjVf2NoWmYf",
    "outputId": "980e4642-a765-47a3-b60b-f21fd5b50b18"
   },
   "outputs": [
    {
     "data": {
      "text/plain": [
       "array([[1, 2, 3],\n",
       "       [4, 5, 6],\n",
       "       [7, 8, 9]])"
      ]
     },
     "execution_count": 97,
     "metadata": {},
     "output_type": "execute_result"
    }
   ],
   "source": [
    "A = np.array([[1,2,3] , [4,5,6] , [7,8,9]])\n",
    "A"
   ]
  },
  {
   "cell_type": "code",
   "execution_count": 98,
   "metadata": {
    "id": "znz-DI60WmYf",
    "outputId": "36c65c94-49ae-4bf0-f93d-fb1890d8f76e"
   },
   "outputs": [
    {
     "data": {
      "text/plain": [
       "array([[0.84564528],\n",
       "       [0.13678518],\n",
       "       [0.05246297]])"
      ]
     },
     "execution_count": 98,
     "metadata": {},
     "output_type": "execute_result"
    }
   ],
   "source": [
    "B = np.random.random((3,1))\n",
    "B"
   ]
  },
  {
   "cell_type": "markdown",
   "metadata": {},
   "source": [
    "# THANK YOU "
   ]
  }
 ],
 "metadata": {
  "colab": {
   "name": "Linear Algebra.ipynb",
   "provenance": []
  },
  "kernelspec": {
   "display_name": "Python 3",
   "language": "python",
   "name": "python3"
  },
  "language_info": {
   "codemirror_mode": {
    "name": "ipython",
    "version": 3
   },
   "file_extension": ".py",
   "mimetype": "text/x-python",
   "name": "python",
   "nbconvert_exporter": "python",
   "pygments_lexer": "ipython3",
   "version": "3.8.1"
  }
 },
 "nbformat": 4,
 "nbformat_minor": 1
}
